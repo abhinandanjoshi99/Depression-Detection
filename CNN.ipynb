{
 "cells": [
  {
   "cell_type": "code",
   "execution_count": 13,
   "metadata": {
    "colab": {
     "base_uri": "https://localhost:8080/"
    },
    "executionInfo": {
     "elapsed": 388,
     "status": "ok",
     "timestamp": 1623585299144,
     "user": {
      "displayName": "Abhinandan Joshi",
      "photoUrl": "https://lh3.googleusercontent.com/a-/AOh14GiiaCCMzbpr9mH8zm0WihE2qcxy53d326oFER9sFg=s64",
      "userId": "00520095178466898447"
     },
     "user_tz": -330
    },
    "id": "vB2HcrAlOWaX",
    "outputId": "9496baad-b329-41c6-fb98-46720be27481"
   },
   "outputs": [
    {
     "name": "stdout",
     "output_type": "stream",
     "text": [
      "Hello World\n"
     ]
    }
   ],
   "source": [
    "print(\"Hello World\")"
   ]
  },
  {
   "cell_type": "code",
   "execution_count": 1,
   "metadata": {
    "executionInfo": {
     "elapsed": 1541,
     "status": "ok",
     "timestamp": 1623583571453,
     "user": {
      "displayName": "Abhinandan Joshi",
      "photoUrl": "https://lh3.googleusercontent.com/a-/AOh14GiiaCCMzbpr9mH8zm0WihE2qcxy53d326oFER9sFg=s64",
      "userId": "00520095178466898447"
     },
     "user_tz": -330
    },
    "id": "KL5K5assEWjK"
   },
   "outputs": [],
   "source": [
    "import tensorflow as tf\n",
    "from tensorflow.keras import layers, models,preprocessing,regularizers,callbacks\n",
    "from matplotlib import pyplot as plt"
   ]
  },
  {
   "cell_type": "code",
   "execution_count": 6,
   "metadata": {
    "colab": {
     "base_uri": "https://localhost:8080/"
    },
    "executionInfo": {
     "elapsed": 335,
     "status": "ok",
     "timestamp": 1623583867998,
     "user": {
      "displayName": "Abhinandan Joshi",
      "photoUrl": "https://lh3.googleusercontent.com/a-/AOh14GiiaCCMzbpr9mH8zm0WihE2qcxy53d326oFER9sFg=s64",
      "userId": "00520095178466898447"
     },
     "user_tz": -330
    },
    "id": "raGROtLYH48U",
    "outputId": "6e659844-e885-4a00-e081-aeddbce72ee9"
   },
   "outputs": [
    {
     "name": "stdout",
     "output_type": "stream",
     "text": [
      "/content/drive/MyDrive/Final year Project/dat_file/others\n"
     ]
    }
   ],
   "source": [
    "cd \"/content/drive/MyDrive/Final year Project/dat_file/others/\""
   ]
  },
  {
   "cell_type": "code",
   "execution_count": 4,
   "metadata": {
    "colab": {
     "base_uri": "https://localhost:8080/"
    },
    "executionInfo": {
     "elapsed": 24074,
     "status": "ok",
     "timestamp": 1623583797804,
     "user": {
      "displayName": "Abhinandan Joshi",
      "photoUrl": "https://lh3.googleusercontent.com/a-/AOh14GiiaCCMzbpr9mH8zm0WihE2qcxy53d326oFER9sFg=s64",
      "userId": "00520095178466898447"
     },
     "user_tz": -330
    },
    "id": "JGSg9neDIkjM",
    "outputId": "c8ce2d0f-b28e-40fe-8b42-2d47d05bd06c"
   },
   "outputs": [
    {
     "name": "stdout",
     "output_type": "stream",
     "text": [
      "Mounted at /content/drive\n"
     ]
    }
   ],
   "source": [
    "from google.colab import drive\n",
    "drive.mount('/content/drive')"
   ]
  },
  {
   "cell_type": "code",
   "execution_count": 7,
   "metadata": {
    "colab": {
     "base_uri": "https://localhost:8080/",
     "height": 35
    },
    "executionInfo": {
     "elapsed": 357,
     "status": "ok",
     "timestamp": 1623583877258,
     "user": {
      "displayName": "Abhinandan Joshi",
      "photoUrl": "https://lh3.googleusercontent.com/a-/AOh14GiiaCCMzbpr9mH8zm0WihE2qcxy53d326oFER9sFg=s64",
      "userId": "00520095178466898447"
     },
     "user_tz": -330
    },
    "id": "DuIq_-TxI9ma",
    "outputId": "9070ccff-ad60-4046-bc93-cb617e66844f"
   },
   "outputs": [
    {
     "data": {
      "application/vnd.google.colaboratory.intrinsic+json": {
       "type": "string"
      },
      "text/plain": [
       "'/content/drive/MyDrive/Final year Project/dat_file/others'"
      ]
     },
     "execution_count": 7,
     "metadata": {
      "tags": []
     },
     "output_type": "execute_result"
    }
   ],
   "source": [
    "pwd"
   ]
  },
  {
   "cell_type": "code",
   "execution_count": 8,
   "metadata": {
    "colab": {
     "base_uri": "https://localhost:8080/"
    },
    "executionInfo": {
     "elapsed": 2443,
     "status": "ok",
     "timestamp": 1623583923634,
     "user": {
      "displayName": "Abhinandan Joshi",
      "photoUrl": "https://lh3.googleusercontent.com/a-/AOh14GiiaCCMzbpr9mH8zm0WihE2qcxy53d326oFER9sFg=s64",
      "userId": "00520095178466898447"
     },
     "user_tz": -330
    },
    "id": "b1Pl1QLwIxz7",
    "outputId": "a2a0330b-a202-4ed1-e1d3-db7e1de60590"
   },
   "outputs": [
    {
     "name": "stdout",
     "output_type": "stream",
     "text": [
      "Found 24 images belonging to 1 classes.\n",
      "Found 6 images belonging to 1 classes.\n"
     ]
    }
   ],
   "source": [
    "datagen = preprocessing.image.ImageDataGenerator(rescale=1/255)# normalisation\n",
    "train_generator = datagen.flow_from_directory(\n",
    "        'final_image_data/train',\n",
    "        batch_size=10,\n",
    "        target_size=(512,512),\n",
    "        class_mode='binary')\n",
    "val_generator = datagen.flow_from_directory(\n",
    "        'final_image_data/val',\n",
    "        color_mode='rgb',\n",
    "        target_size=(512,512),\n",
    "        class_mode='binary')"
   ]
  },
  {
   "cell_type": "code",
   "execution_count": 9,
   "metadata": {
    "executionInfo": {
     "elapsed": 888,
     "status": "ok",
     "timestamp": 1623583949478,
     "user": {
      "displayName": "Abhinandan Joshi",
      "photoUrl": "https://lh3.googleusercontent.com/a-/AOh14GiiaCCMzbpr9mH8zm0WihE2qcxy53d326oFER9sFg=s64",
      "userId": "00520095178466898447"
     },
     "user_tz": -330
    },
    "id": "ea-CEkD2JLac"
   },
   "outputs": [],
   "source": [
    "# model\n",
    "model = models.Sequential()\n",
    "model.add(layers.Conv2D(32, (5,5), activation='relu', input_shape=(512, 512, 3)))\n",
    "model.add(layers.MaxPooling2D((4, 4), strides=4))\n",
    "model.add(layers.Conv2D(32, (3, 3), activation='relu',kernel_regularizer=regularizers.l2(0.01)))\n",
    "model.add(layers.MaxPooling2D((1, 3), strides=(1,3)))\n",
    "model.add(layers.Flatten())\n",
    "model.add(layers.Dense(128, activation='linear',kernel_regularizer=regularizers.l2(0.01)))\n",
    "model.add(layers.Dropout(0.6))\n",
    "model.add(layers.Dense(256, activation='relu',kernel_regularizer=regularizers.l2(0.0001)))\n",
    "model.add(layers.Dropout(0.8))\n",
    "model.add(layers.Dense(1, activation='sigmoid'))\n",
    "model.compile(optimizer=tf.keras.optimizers.SGD(),\n",
    "              loss=tf.keras.losses.BinaryCrossentropy(),\n",
    "              metrics=['accuracy',\n",
    "                       tf.keras.metrics.TrueNegatives(),\n",
    "                       tf.keras.metrics.TruePositives(),\n",
    "                       tf.keras.metrics.FalseNegatives(),\n",
    "                       tf.keras.metrics.FalsePositives()])\n"
   ]
  },
  {
   "cell_type": "code",
   "execution_count": 11,
   "metadata": {
    "colab": {
     "base_uri": "https://localhost:8080/",
     "height": 829
    },
    "executionInfo": {
     "elapsed": 43343,
     "status": "error",
     "timestamp": 1623584100903,
     "user": {
      "displayName": "Abhinandan Joshi",
      "photoUrl": "https://lh3.googleusercontent.com/a-/AOh14GiiaCCMzbpr9mH8zm0WihE2qcxy53d326oFER9sFg=s64",
      "userId": "00520095178466898447"
     },
     "user_tz": -330
    },
    "id": "mAJ-mw2IJeeb",
    "outputId": "f4704110-cc6c-4f75-ae77-51c1230ed9a4"
   },
   "outputs": [
    {
     "name": "stderr",
     "output_type": "stream",
     "text": [
      "/usr/local/lib/python3.7/dist-packages/tensorflow/python/keras/engine/training.py:1940: UserWarning: `Model.fit_generator` is deprecated and will be removed in a future version. Please use `Model.fit`, which supports generators.\n",
      "  warnings.warn('`Model.fit_generator` is deprecated and '\n"
     ]
    },
    {
     "name": "stdout",
     "output_type": "stream",
     "text": [
      "Epoch 1/5\n",
      "3/3 [==============================] - 6s 2s/step - loss: 2.8876 - accuracy: 1.0000 - true_negatives: 24.0000 - true_positives: 0.0000e+00 - false_negatives: 0.0000e+00 - false_positives: 0.0000e+00 - val_loss: 2.8840 - val_accuracy: 1.0000 - val_true_negatives: 6.0000 - val_true_positives: 0.0000e+00 - val_false_negatives: 0.0000e+00 - val_false_positives: 0.0000e+00\n",
      "WARNING:tensorflow:Early stopping conditioned on metric `val_acc` which is not available. Available metrics are: loss,accuracy,true_negatives,true_positives,false_negatives,false_positives,val_loss,val_accuracy,val_true_negatives,val_true_positives,val_false_negatives,val_false_positives\n",
      "Epoch 2/5\n",
      "3/3 [==============================] - 6s 2s/step - loss: 2.8977 - accuracy: 1.0000 - true_negatives: 24.0000 - true_positives: 0.0000e+00 - false_negatives: 0.0000e+00 - false_positives: 0.0000e+00 - val_loss: 2.8804 - val_accuracy: 1.0000 - val_true_negatives: 6.0000 - val_true_positives: 0.0000e+00 - val_false_negatives: 0.0000e+00 - val_false_positives: 0.0000e+00\n",
      "WARNING:tensorflow:Early stopping conditioned on metric `val_acc` which is not available. Available metrics are: loss,accuracy,true_negatives,true_positives,false_negatives,false_positives,val_loss,val_accuracy,val_true_negatives,val_true_positives,val_false_negatives,val_false_positives\n",
      "Epoch 3/5\n",
      "3/3 [==============================] - 6s 2s/step - loss: 2.9250 - accuracy: 1.0000 - true_negatives: 24.0000 - true_positives: 0.0000e+00 - false_negatives: 0.0000e+00 - false_positives: 0.0000e+00 - val_loss: 2.8770 - val_accuracy: 1.0000 - val_true_negatives: 6.0000 - val_true_positives: 0.0000e+00 - val_false_negatives: 0.0000e+00 - val_false_positives: 0.0000e+00\n",
      "WARNING:tensorflow:Early stopping conditioned on metric `val_acc` which is not available. Available metrics are: loss,accuracy,true_negatives,true_positives,false_negatives,false_positives,val_loss,val_accuracy,val_true_negatives,val_true_positives,val_false_negatives,val_false_positives\n",
      "Epoch 4/5\n",
      "3/3 [==============================] - 6s 2s/step - loss: 2.9231 - accuracy: 1.0000 - true_negatives: 24.0000 - true_positives: 0.0000e+00 - false_negatives: 0.0000e+00 - false_positives: 0.0000e+00 - val_loss: 2.8736 - val_accuracy: 1.0000 - val_true_negatives: 6.0000 - val_true_positives: 0.0000e+00 - val_false_negatives: 0.0000e+00 - val_false_positives: 0.0000e+00\n",
      "WARNING:tensorflow:Early stopping conditioned on metric `val_acc` which is not available. Available metrics are: loss,accuracy,true_negatives,true_positives,false_negatives,false_positives,val_loss,val_accuracy,val_true_negatives,val_true_positives,val_false_negatives,val_false_positives\n",
      "Epoch 5/5\n",
      "3/3 [==============================] - 6s 2s/step - loss: 2.8745 - accuracy: 1.0000 - true_negatives: 24.0000 - true_positives: 0.0000e+00 - false_negatives: 0.0000e+00 - false_positives: 0.0000e+00 - val_loss: 2.8702 - val_accuracy: 1.0000 - val_true_negatives: 6.0000 - val_true_positives: 0.0000e+00 - val_false_negatives: 0.0000e+00 - val_false_positives: 0.0000e+00\n",
      "WARNING:tensorflow:Early stopping conditioned on metric `val_acc` which is not available. Available metrics are: loss,accuracy,true_negatives,true_positives,false_negatives,false_positives,val_loss,val_accuracy,val_true_negatives,val_true_positives,val_false_negatives,val_false_positives\n"
     ]
    },
    {
     "data": {
      "image/png": "[encoded data removed]",
      "text/plain": [
       "<Figure size 432x288 with 1 Axes>"
      ]
     },
     "metadata": {
      "needs_background": "light",
      "tags": []
     },
     "output_type": "display_data"
    },
    {
     "ename": "KeyError",
     "evalue": "ignored",
     "output_type": "error",
     "traceback": [
      "\u001b[0;31m---------------------------------------------------------------------------\u001b[0m",
      "\u001b[0;31mKeyError\u001b[0m                                  Traceback (most recent call last)",
      "\u001b[0;32m<ipython-input-11-07d7fa0cd2ea>\u001b[0m in \u001b[0;36m<module>\u001b[0;34m()\u001b[0m\n\u001b[1;32m     10\u001b[0m \u001b[0mplt\u001b[0m\u001b[0;34m.\u001b[0m\u001b[0mlegend\u001b[0m\u001b[0;34m(\u001b[0m\u001b[0;34m[\u001b[0m\u001b[0;34m'train'\u001b[0m\u001b[0;34m,\u001b[0m \u001b[0;34m'val'\u001b[0m\u001b[0;34m]\u001b[0m\u001b[0;34m,\u001b[0m \u001b[0mloc\u001b[0m\u001b[0;34m=\u001b[0m\u001b[0;34m'upper left'\u001b[0m\u001b[0;34m)\u001b[0m\u001b[0;34m\u001b[0m\u001b[0;34m\u001b[0m\u001b[0m\n\u001b[1;32m     11\u001b[0m \u001b[0mplt\u001b[0m\u001b[0;34m.\u001b[0m\u001b[0mshow\u001b[0m\u001b[0;34m(\u001b[0m\u001b[0;34m)\u001b[0m\u001b[0;34m\u001b[0m\u001b[0;34m\u001b[0m\u001b[0m\n\u001b[0;32m---> 12\u001b[0;31m \u001b[0mplt\u001b[0m\u001b[0;34m.\u001b[0m\u001b[0mplot\u001b[0m\u001b[0;34m(\u001b[0m\u001b[0mhistory\u001b[0m\u001b[0;34m.\u001b[0m\u001b[0mhistory\u001b[0m\u001b[0;34m[\u001b[0m\u001b[0;34m'acc'\u001b[0m\u001b[0;34m]\u001b[0m\u001b[0;34m)\u001b[0m\u001b[0;34m\u001b[0m\u001b[0;34m\u001b[0m\u001b[0m\n\u001b[0m\u001b[1;32m     13\u001b[0m \u001b[0mplt\u001b[0m\u001b[0;34m.\u001b[0m\u001b[0mplot\u001b[0m\u001b[0;34m(\u001b[0m\u001b[0mhistory\u001b[0m\u001b[0;34m.\u001b[0m\u001b[0mhistory\u001b[0m\u001b[0;34m[\u001b[0m\u001b[0;34m'val_acc'\u001b[0m\u001b[0;34m]\u001b[0m\u001b[0;34m)\u001b[0m\u001b[0;34m\u001b[0m\u001b[0;34m\u001b[0m\u001b[0m\n\u001b[1;32m     14\u001b[0m \u001b[0mplt\u001b[0m\u001b[0;34m.\u001b[0m\u001b[0mtitle\u001b[0m\u001b[0;34m(\u001b[0m\u001b[0;34m'loss'\u001b[0m\u001b[0;34m)\u001b[0m\u001b[0;34m\u001b[0m\u001b[0;34m\u001b[0m\u001b[0m\n",
      "\u001b[0;31mKeyError\u001b[0m: 'acc'"
     ]
    }
   ],
   "source": [
    "# fitiing\n",
    "history=model.fit_generator(train_generator,epochs=5,validation_data=val_generator,shuffle=True,\n",
    "                            callbacks=[callbacks.EarlyStopping(monitor='val_acc', patience=5,restore_best_weights=True)])\n",
    "# using early stopping method to train the model to achieve maximum accuracy\n",
    "plt.plot(history.history['loss'])\n",
    "plt.plot(history.history['val_loss'])\n",
    "plt.title('loss')\n",
    "plt.ylabel('loss')\n",
    "plt.xlabel('epoch')\n",
    "plt.legend(['train', 'val'], loc='upper left')\n",
    "plt.show()\n",
    "plt.plot(history.history['acc'])\n",
    "plt.plot(history.history['val_acc'])\n",
    "plt.title('loss')\n",
    "plt.ylabel('loss')\n",
    "plt.xlabel('epoch')\n",
    "plt.legend(['train', 'val'], loc='upper left')\n",
    "plt.show()"
   ]
  },
  {
   "cell_type": "code",
   "execution_count": 12,
   "metadata": {
    "colab": {
     "base_uri": "https://localhost:8080/"
    },
    "executionInfo": {
     "elapsed": 541,
     "status": "ok",
     "timestamp": 1623584167794,
     "user": {
      "displayName": "Abhinandan Joshi",
      "photoUrl": "https://lh3.googleusercontent.com/a-/AOh14GiiaCCMzbpr9mH8zm0WihE2qcxy53d326oFER9sFg=s64",
      "userId": "00520095178466898447"
     },
     "user_tz": -330
    },
    "id": "I0CL8L-RKEao",
    "outputId": "3112afc6-fb0e-4559-b1df-f90cede287d9"
   },
   "outputs": [
    {
     "name": "stderr",
     "output_type": "stream",
     "text": [
      "/usr/local/lib/python3.7/dist-packages/tensorflow/python/keras/engine/training.py:1973: UserWarning: `Model.evaluate_generator` is deprecated and will be removed in a future version. Please use `Model.evaluate`, which supports generators.\n",
      "  warnings.warn('`Model.evaluate_generator` is deprecated and '\n"
     ]
    },
    {
     "name": "stdout",
     "output_type": "stream",
     "text": [
      "1.0 6.0 0.0 0.0 0.0\n"
     ]
    }
   ],
   "source": [
    "#testing \n",
    "loss,accuracy,tn,tp,fn,fp=model.evaluate_generator(val_generator)\n",
    "print(accuracy,tn,tp,fn,fp)"
   ]
  }
 ],
 "metadata": {
  "colab": {
   "authorship_tag": "ABX9TyPRR5ddhA9YZiDKQjsu5tRL",
   "name": "CNN.ipynb",
   "provenance": []
  },
  "kernelspec": {
   "display_name": "Python 3",
   "language": "python",
   "name": "python3"
  },
  "language_info": {
   "codemirror_mode": {
    "name": "ipython",
    "version": 3
   },
   "file_extension": ".py",
   "mimetype": "text/x-python",
   "name": "python",
   "nbconvert_exporter": "python",
   "pygments_lexer": "ipython3",
   "version": "3.7.1"
  }
 },
 "nbformat": 4,
 "nbformat_minor": 1
}
