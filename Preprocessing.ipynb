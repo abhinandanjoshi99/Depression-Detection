{
 "cells": [
  {
   "cell_type": "code",
   "execution_count": 59,
   "metadata": {
    "colab": {
     "base_uri": "https://localhost:8080/"
    },
    "executionInfo": {
     "elapsed": 372,
     "status": "ok",
     "timestamp": 1623583584019,
     "user": {
      "displayName": "Abhinandan Joshi",
      "photoUrl": "https://lh3.googleusercontent.com/a-/AOh14GiiaCCMzbpr9mH8zm0WihE2qcxy53d326oFER9sFg=s64",
      "userId": "00520095178466898447"
     },
     "user_tz": -330
    },
    "id": "x5RKJe5BS29r",
    "outputId": "34c6b0c7-3363-4f0c-abad-3d1e01dd583a"
   },
   "outputs": [
    {
     "name": "stdout",
     "output_type": "stream",
     "text": [
      "Hello World\n"
     ]
    }
   ],
   "source": [
    "\n",
    "print(\"Hello World\")"
   ]
  },
  {
   "cell_type": "code",
   "execution_count": 6,
   "metadata": {
    "colab": {
     "base_uri": "https://localhost:8080/"
    },
    "executionInfo": {
     "elapsed": 18618,
     "status": "ok",
     "timestamp": 1623563049314,
     "user": {
      "displayName": "Abhinandan Joshi",
      "photoUrl": "https://lh3.googleusercontent.com/a-/AOh14GiiaCCMzbpr9mH8zm0WihE2qcxy53d326oFER9sFg=s64",
      "userId": "00520095178466898447"
     },
     "user_tz": -330
    },
    "id": "0tj-JJ28UmXP",
    "outputId": "002690b2-9f3d-4803-d05d-823343db32f7"
   },
   "outputs": [
    {
     "name": "stdout",
     "output_type": "stream",
     "text": [
      "Collecting pyAudioAnalysis\n",
      "\u001b[?25l  Downloading https://files.pythonhosted.org/packages/4a/8b/456ef9101ad5bffe60b84ed9f6efba7d5a6f62e7da16deae547241382c06/pyAudioAnalysis-0.3.7.tar.gz (52.4MB)\n",
      "\u001b[K     |████████████████████████████████| 52.4MB 85kB/s \n",
      "\u001b[?25hBuilding wheels for collected packages: pyAudioAnalysis\n",
      "  Building wheel for pyAudioAnalysis (setup.py) ... \u001b[?25l\u001b[?25hdone\n",
      "  Created wheel for pyAudioAnalysis: filename=pyAudioAnalysis-0.3.7-cp37-none-any.whl size=52589873 sha256=a598e5ecdbd2a3a92fb1bd2cd4f283f015c871c863ef46ea733cf12eb50af0d5\n",
      "  Stored in directory: /root/.cache/pip/wheels/e0/da/f5/f8ab47859ae6e5f552d4fc289cc7af54879890d22bccd3d3cf\n",
      "Successfully built pyAudioAnalysis\n",
      "Installing collected packages: pyAudioAnalysis\n",
      "Successfully installed pyAudioAnalysis-0.3.7\n"
     ]
    }
   ],
   "source": [
    "pip install pyAudioAnalysis"
   ]
  },
  {
   "cell_type": "code",
   "execution_count": 7,
   "metadata": {
    "colab": {
     "base_uri": "https://localhost:8080/"
    },
    "executionInfo": {
     "elapsed": 4727,
     "status": "ok",
     "timestamp": 1623563067956,
     "user": {
      "displayName": "Abhinandan Joshi",
      "photoUrl": "https://lh3.googleusercontent.com/a-/AOh14GiiaCCMzbpr9mH8zm0WihE2qcxy53d326oFER9sFg=s64",
      "userId": "00520095178466898447"
     },
     "user_tz": -330
    },
    "id": "-Dr3eZGgUtju",
    "outputId": "ac7c3960-7cd2-414f-9955-7e2df02e8f56"
   },
   "outputs": [
    {
     "name": "stdout",
     "output_type": "stream",
     "text": [
      "Collecting eyed3\n",
      "\u001b[?25l  Downloading https://files.pythonhosted.org/packages/e9/5e/9445f42ca86bc4832bac33fe37b506fc4db60dd9b68621e55c96fc66d730/eyeD3-0.9.6-py3-none-any.whl (245kB)\n",
      "\u001b[K     |████████████████████████████████| 256kB 32.4MB/s \n",
      "\u001b[?25hCollecting coverage[toml]<6.0.0,>=5.3.1\n",
      "\u001b[?25l  Downloading https://files.pythonhosted.org/packages/16/e0/fc9f7bd9b84e6b41d0aad1a113e36714aac0c0a9b307aca5f9af443bc50f/coverage-5.5-cp37-cp37m-manylinux2010_x86_64.whl (242kB)\n",
      "\u001b[K     |████████████████████████████████| 245kB 34.9MB/s \n",
      "\u001b[?25hCollecting deprecation<3.0.0,>=2.1.0\n",
      "  Downloading https://files.pythonhosted.org/packages/02/c3/253a89ee03fc9b9682f1541728eb66db7db22148cd94f89ab22528cd1e1b/deprecation-2.1.0-py2.py3-none-any.whl\n",
      "Collecting filetype<2.0.0,>=1.0.7\n",
      "  Downloading https://files.pythonhosted.org/packages/b4/6b/7bc015da1a576ac037582ae0c5acb675371de9e017e860931e97a428ee31/filetype-1.0.7-py2.py3-none-any.whl\n",
      "Requirement already satisfied: toml; extra == \"toml\" in /usr/local/lib/python3.7/dist-packages (from coverage[toml]<6.0.0,>=5.3.1->eyed3) (0.10.2)\n",
      "Requirement already satisfied: packaging in /usr/local/lib/python3.7/dist-packages (from deprecation<3.0.0,>=2.1.0->eyed3) (20.9)\n",
      "Requirement already satisfied: pyparsing>=2.0.2 in /usr/local/lib/python3.7/dist-packages (from packaging->deprecation<3.0.0,>=2.1.0->eyed3) (2.4.7)\n",
      "\u001b[31mERROR: datascience 0.10.6 has requirement coverage==3.7.1, but you'll have coverage 5.5 which is incompatible.\u001b[0m\n",
      "\u001b[31mERROR: datascience 0.10.6 has requirement folium==0.2.1, but you'll have folium 0.8.3 which is incompatible.\u001b[0m\n",
      "\u001b[31mERROR: coveralls 0.5 has requirement coverage<3.999,>=3.6, but you'll have coverage 5.5 which is incompatible.\u001b[0m\n",
      "Installing collected packages: coverage, deprecation, filetype, eyed3\n",
      "  Found existing installation: coverage 3.7.1\n",
      "    Uninstalling coverage-3.7.1:\n",
      "      Successfully uninstalled coverage-3.7.1\n",
      "Successfully installed coverage-5.5 deprecation-2.1.0 eyed3-0.9.6 filetype-1.0.7\n"
     ]
    }
   ],
   "source": [
    "pip install eyed3"
   ]
  },
  {
   "cell_type": "code",
   "execution_count": 8,
   "metadata": {
    "colab": {
     "base_uri": "https://localhost:8080/"
    },
    "executionInfo": {
     "elapsed": 3352,
     "status": "ok",
     "timestamp": 1623563078564,
     "user": {
      "displayName": "Abhinandan Joshi",
      "photoUrl": "https://lh3.googleusercontent.com/a-/AOh14GiiaCCMzbpr9mH8zm0WihE2qcxy53d326oFER9sFg=s64",
      "userId": "00520095178466898447"
     },
     "user_tz": -330
    },
    "id": "QZb2b-yHU2d5",
    "outputId": "95a484e9-a774-45dd-b753-af7708e383fc"
   },
   "outputs": [
    {
     "name": "stdout",
     "output_type": "stream",
     "text": [
      "Collecting pydub\n",
      "  Downloading https://files.pythonhosted.org/packages/a6/53/d78dc063216e62fc55f6b2eebb447f6a4b0a59f55c8406376f76bf959b08/pydub-0.25.1-py2.py3-none-any.whl\n",
      "Installing collected packages: pydub\n",
      "Successfully installed pydub-0.25.1\n"
     ]
    }
   ],
   "source": [
    "pip install pydub"
   ]
  },
  {
   "cell_type": "code",
   "execution_count": 9,
   "metadata": {
    "colab": {
     "base_uri": "https://localhost:8080/"
    },
    "executionInfo": {
     "elapsed": 3448,
     "status": "ok",
     "timestamp": 1623563087398,
     "user": {
      "displayName": "Abhinandan Joshi",
      "photoUrl": "https://lh3.googleusercontent.com/a-/AOh14GiiaCCMzbpr9mH8zm0WihE2qcxy53d326oFER9sFg=s64",
      "userId": "00520095178466898447"
     },
     "user_tz": -330
    },
    "id": "mmCtXwngU7gQ",
    "outputId": "e2ab4fa4-d583-425a-8195-be5bbb6ccb27"
   },
   "outputs": [
    {
     "name": "stdout",
     "output_type": "stream",
     "text": [
      "Collecting hmmlearn\n",
      "\u001b[?25l  Downloading https://files.pythonhosted.org/packages/4b/98/a2829aeb942b7146034d497afb3fc738a78a4fbd4797a039c19a94bb31f7/hmmlearn-0.2.5-cp37-cp37m-manylinux1_x86_64.whl (369kB)\n",
      "\r",
      "\u001b[K     |▉                               | 10kB 14.7MB/s eta 0:00:01\r",
      "\u001b[K     |█▊                              | 20kB 21.2MB/s eta 0:00:01\r",
      "\u001b[K     |██▋                             | 30kB 24.8MB/s eta 0:00:01\r",
      "\u001b[K     |███▌                            | 40kB 26.4MB/s eta 0:00:01\r",
      "\u001b[K     |████▍                           | 51kB 28.3MB/s eta 0:00:01\r",
      "\u001b[K     |█████▎                          | 61kB 29.9MB/s eta 0:00:01\r",
      "\u001b[K     |██████▏                         | 71kB 23.3MB/s eta 0:00:01\r",
      "\u001b[K     |███████                         | 81kB 24.4MB/s eta 0:00:01\r",
      "\u001b[K     |████████                        | 92kB 25.8MB/s eta 0:00:01\r",
      "\u001b[K     |████████▉                       | 102kB 24.6MB/s eta 0:00:01\r",
      "\u001b[K     |█████████▊                      | 112kB 24.6MB/s eta 0:00:01\r",
      "\u001b[K     |██████████▋                     | 122kB 24.6MB/s eta 0:00:01\r",
      "\u001b[K     |███████████▌                    | 133kB 24.6MB/s eta 0:00:01\r",
      "\u001b[K     |████████████▍                   | 143kB 24.6MB/s eta 0:00:01\r",
      "\u001b[K     |█████████████▎                  | 153kB 24.6MB/s eta 0:00:01\r",
      "\u001b[K     |██████████████▏                 | 163kB 24.6MB/s eta 0:00:01\r",
      "\u001b[K     |███████████████                 | 174kB 24.6MB/s eta 0:00:01\r",
      "\u001b[K     |████████████████                | 184kB 24.6MB/s eta 0:00:01\r",
      "\u001b[K     |████████████████▉               | 194kB 24.6MB/s eta 0:00:01\r",
      "\u001b[K     |█████████████████▊              | 204kB 24.6MB/s eta 0:00:01\r",
      "\u001b[K     |██████████████████▋             | 215kB 24.6MB/s eta 0:00:01\r",
      "\u001b[K     |███████████████████▌            | 225kB 24.6MB/s eta 0:00:01\r",
      "\u001b[K     |████████████████████▍           | 235kB 24.6MB/s eta 0:00:01\r",
      "\u001b[K     |█████████████████████▎          | 245kB 24.6MB/s eta 0:00:01\r",
      "\u001b[K     |██████████████████████▏         | 256kB 24.6MB/s eta 0:00:01\r",
      "\u001b[K     |███████████████████████         | 266kB 24.6MB/s eta 0:00:01\r",
      "\u001b[K     |████████████████████████        | 276kB 24.6MB/s eta 0:00:01\r",
      "\u001b[K     |████████████████████████▉       | 286kB 24.6MB/s eta 0:00:01\r",
      "\u001b[K     |█████████████████████████▊      | 296kB 24.6MB/s eta 0:00:01\r",
      "\u001b[K     |██████████████████████████▋     | 307kB 24.6MB/s eta 0:00:01\r",
      "\u001b[K     |███████████████████████████▌    | 317kB 24.6MB/s eta 0:00:01\r",
      "\u001b[K     |████████████████████████████▍   | 327kB 24.6MB/s eta 0:00:01\r",
      "\u001b[K     |█████████████████████████████▎  | 337kB 24.6MB/s eta 0:00:01\r",
      "\u001b[K     |██████████████████████████████▏ | 348kB 24.6MB/s eta 0:00:01\r",
      "\u001b[K     |███████████████████████████████ | 358kB 24.6MB/s eta 0:00:01\r",
      "\u001b[K     |████████████████████████████████| 368kB 24.6MB/s eta 0:00:01\r",
      "\u001b[K     |████████████████████████████████| 378kB 24.6MB/s \n",
      "\u001b[?25hRequirement already satisfied: scipy>=0.19 in /usr/local/lib/python3.7/dist-packages (from hmmlearn) (1.4.1)\n",
      "Requirement already satisfied: numpy>=1.10 in /usr/local/lib/python3.7/dist-packages (from hmmlearn) (1.19.5)\n",
      "Requirement already satisfied: scikit-learn>=0.16 in /usr/local/lib/python3.7/dist-packages (from hmmlearn) (0.22.2.post1)\n",
      "Requirement already satisfied: joblib>=0.11 in /usr/local/lib/python3.7/dist-packages (from scikit-learn>=0.16->hmmlearn) (1.0.1)\n",
      "Installing collected packages: hmmlearn\n",
      "Successfully installed hmmlearn-0.2.5\n"
     ]
    }
   ],
   "source": [
    "pip install hmmlearn"
   ]
  },
  {
   "cell_type": "code",
   "execution_count": 10,
   "metadata": {
    "colab": {
     "base_uri": "https://localhost:8080/"
    },
    "executionInfo": {
     "elapsed": 3745,
     "status": "ok",
     "timestamp": 1623563099551,
     "user": {
      "displayName": "Abhinandan Joshi",
      "photoUrl": "https://lh3.googleusercontent.com/a-/AOh14GiiaCCMzbpr9mH8zm0WihE2qcxy53d326oFER9sFg=s64",
      "userId": "00520095178466898447"
     },
     "user_tz": -330
    },
    "id": "BaQ_dE24U_kW",
    "outputId": "6ec848e5-651d-4dda-9d53-33b766e21303"
   },
   "outputs": [
    {
     "name": "stdout",
     "output_type": "stream",
     "text": [
      "Requirement already satisfied: plotly in /usr/local/lib/python3.7/dist-packages (4.4.1)\n",
      "Requirement already satisfied: six in /usr/local/lib/python3.7/dist-packages (from plotly) (1.15.0)\n",
      "Requirement already satisfied: retrying>=1.3.3 in /usr/local/lib/python3.7/dist-packages (from plotly) (1.3.3)\n"
     ]
    }
   ],
   "source": [
    "pip install plotly"
   ]
  },
  {
   "cell_type": "code",
   "execution_count": 11,
   "metadata": {
    "colab": {
     "base_uri": "https://localhost:8080/"
    },
    "executionInfo": {
     "elapsed": 136425,
     "status": "ok",
     "timestamp": 1623563239802,
     "user": {
      "displayName": "Abhinandan Joshi",
      "photoUrl": "https://lh3.googleusercontent.com/a-/AOh14GiiaCCMzbpr9mH8zm0WihE2qcxy53d326oFER9sFg=s64",
      "userId": "00520095178466898447"
     },
     "user_tz": -330
    },
    "id": "VzoJf4LpULz_",
    "outputId": "965c5f0c-65d3-494e-ab96-a9c7d56c7b0b"
   },
   "outputs": [
    {
     "name": "stderr",
     "output_type": "stream",
     "text": [
      "/usr/local/lib/python3.7/dist-packages/sklearn/discriminant_analysis.py:463: ChangedBehaviorWarning:\n",
      "\n",
      "n_components cannot be larger than min(n_features, n_classes - 1). Using min(n_features, n_classes - 1) = min(26, 65 - 1) = 26 components.\n",
      "\n",
      "/usr/local/lib/python3.7/dist-packages/sklearn/discriminant_analysis.py:469: FutureWarning:\n",
      "\n",
      "In version 0.23, setting n_components > min(n_features, n_classes - 1) will raise a ValueError. You should set n_components to None (default), or a value smaller or equal to min(n_features, n_classes - 1).\n",
      "\n"
     ]
    }
   ],
   "source": [
    "from pyAudioAnalysis import audioBasicIO as aIO\n",
    "from pyAudioAnalysis import audioSegmentation as aS\n",
    "import os\n",
    "import scipy.io.wavfile as wavfile\n",
    "# speaker diarization\n",
    "# all audio sessions are taken in 'audio_data' folder.\n",
    "dia={}\n",
    "for i in os.listdir(\"audio_data\"):\n",
    "  dia[i[:3]]=aS.speaker_diarization(\"audio_data/\"+i,-10) #changed aS.speakerDiarization \n",
    "  # speaker diarization outputs speaker number for every .5 sec time frame\n",
    "  c=0\n",
    "  dic={}\n",
    "  for j in dia[i[:3]]:\n",
    "    dic[c]=j\n",
    "    c+=1\n",
    "  del(dia[i[:3]])\n",
    "  dia[i[:3]]=dic #dictionary of audio session number : speaker number list"
   ]
  },
  {
   "cell_type": "code",
   "execution_count": 20,
   "metadata": {
    "colab": {
     "base_uri": "https://localhost:8080/"
    },
    "executionInfo": {
     "elapsed": 33372,
     "status": "ok",
     "timestamp": 1623565722701,
     "user": {
      "displayName": "Abhinandan Joshi",
      "photoUrl": "https://lh3.googleusercontent.com/a-/AOh14GiiaCCMzbpr9mH8zm0WihE2qcxy53d326oFER9sFg=s64",
      "userId": "00520095178466898447"
     },
     "user_tz": -330
    },
    "id": "6hEu3ObMWzUR",
    "outputId": "de3c741a-cc33-453c-b1ba-31fb7354794e"
   },
   "outputs": [
    {
     "name": "stdout",
     "output_type": "stream",
     "text": [
      "Done\n"
     ]
    }
   ],
   "source": [
    "import numpy as np\n",
    "import os\n",
    "from scipy.io.wavfile import write\n",
    "\n",
    "for i in os.listdir(\"audio_data\"):\n",
    "  [Fs, x] = aIO.read_audio_file(\"audio_data/\"+i)\n",
    "  segments = aS.silence_removal(x, Fs, 0.020, 0.020,\n",
    "                                   smooth_window=1.0,\n",
    "                                   weight=0.3,\n",
    "                                   plot=False)\n",
    "  for s in segments:\n",
    "    seg_name = \"{:s}_{:.2f}-{:}.wav\".format(i[:3], s[0],\n",
    "                                            str(int((dia[i[:3]][int((Fs*s[0])/3200)]+dia[i[:3]][int((Fs*s[1])/3200)])/2)))\n",
    "    \n",
    "    var = str('dat_file/'+str(int((dia[i[:3]][int((Fs*s[0])/3200)]+dia[i[:3]][int((Fs*s[1])/3200)])/2))+'/'+seg_name)\n",
    "    var2 = x[int(Fs * s[0]):int(Fs * s[1])]\n",
    "    var3 = str('dat_file/others/'+seg_name)\n",
    "    try:\n",
    "      write('dat_file/'+str(int((dia[i[:3]][int((Fs*s[0])/3200)]+dia[i[:3]][int((Fs*s[1])/3200)])/2))+'/'+seg_name,Fs,x[int(Fs * s[0]):int(Fs * s[1])] )\n",
    "    except:\n",
    "      write('dat_file/others/'+seg_name, Fs, x[int(Fs * s[0]):int(Fs * s[1])])\n",
    "\n",
    "print(\"Done\")"
   ]
  },
  {
   "cell_type": "code",
   "execution_count": 15,
   "metadata": {
    "colab": {
     "base_uri": "https://localhost:8080/"
    },
    "executionInfo": {
     "elapsed": 3503,
     "status": "ok",
     "timestamp": 1623565140323,
     "user": {
      "displayName": "Abhinandan Joshi",
      "photoUrl": "https://lh3.googleusercontent.com/a-/AOh14GiiaCCMzbpr9mH8zm0WihE2qcxy53d326oFER9sFg=s64",
      "userId": "00520095178466898447"
     },
     "user_tz": -330
    },
    "id": "jz9r65hzX2kH",
    "outputId": "87c8dd0a-4e5c-4602-f4a6-dbf72e038a05"
   },
   "outputs": [
    {
     "name": "stdout",
     "output_type": "stream",
     "text": [
      "Collecting spectrust\n",
      "\u001b[?25l  Downloading https://files.pythonhosted.org/packages/a8/f8/210948152dcd11a6cf9c1177e85170fd7814e86bcf42a0d8aaddc93ff14e/spectrust-0.1.1-py3-none-any.whl (2.3MB)\n",
      "\u001b[K     |████████████████████████████████| 2.3MB 29.0MB/s \n",
      "\u001b[?25hInstalling collected packages: spectrust\n",
      "Successfully installed spectrust-0.1.1\n"
     ]
    }
   ],
   "source": [
    "pip install spectrust"
   ]
  },
  {
   "cell_type": "code",
   "execution_count": null,
   "metadata": {
    "id": "-ChmdNrlXsMV"
   },
   "outputs": [],
   "source": [
    "import spectrust\n",
    "import re\n",
    "\n",
    "# label_data={}\n",
    "spect = spectrust.Spectrogram(width=512, height=512)\n",
    "#spectrograms of size 512X512, RGB\n",
    "for i in os.listdir(\"dat_file/others/\"):\n",
    "  specVar1= 'dat_file/others/'+i\n",
    "  print(specVar1)\n",
    "  specVar2='raw_data_img/'+str(300)+'/'+re.sub('.wav','',i)+'.jpg'\n",
    "  print(specVar2)\n",
    "  sampleVar=spect.generate(str('dat_file/others/'+i),str('dat_file/others/raw_data_img/'+str(300)+'/'+re.sub('.wav','',i)+'.jpg'))\n",
    "  print(sampleVar)\n",
    "  #the labels are taken as a dict - label_data={session_name:Class}"
   ]
  },
  {
   "cell_type": "code",
   "execution_count": 2,
   "metadata": {
    "colab": {
     "base_uri": "https://localhost:8080/"
    },
    "executionInfo": {
     "elapsed": 28082,
     "status": "ok",
     "timestamp": 1623562930114,
     "user": {
      "displayName": "Abhinandan Joshi",
      "photoUrl": "https://lh3.googleusercontent.com/a-/AOh14GiiaCCMzbpr9mH8zm0WihE2qcxy53d326oFER9sFg=s64",
      "userId": "00520095178466898447"
     },
     "user_tz": -330
    },
    "id": "hYFGBZ5SVVfR",
    "outputId": "46a1b2c9-18c9-4475-bf1b-15f1c6bc12eb"
   },
   "outputs": [
    {
     "name": "stdout",
     "output_type": "stream",
     "text": [
      "Mounted at /content/drive\n"
     ]
    }
   ],
   "source": []
  },
  {
   "cell_type": "code",
   "execution_count": null,
   "metadata": {
    "id": "C-7n7koc7Z36"
   },
   "outputs": [],
   "source": [
    "import numpy as np\n",
    "import cv2\n",
    "\n",
    "for i in os.listdir('dat_file/others/raw_data_img'):  \n",
    "  for c in range(30):\n",
    "    files = os.listdir('dat_file/others/raw_data_img/'+i)\n",
    "    random_files = np.random.choice(files, 30)    \n",
    "  nm=0\n",
    "  for j in random_files:\n",
    "    im=cv2.imread('dat_file/others/raw_data_img/'+i+'/'+j)\n",
    "    # print(im)\n",
    "    out=cv2.imwrite('dat_file/others/data_img/'+i+'/'+str(nm)+'.jpg',im)\n",
    "    nm+=1\n",
    "    print(out)"
   ]
  },
  {
   "cell_type": "code",
   "execution_count": 53,
   "metadata": {
    "colab": {
     "base_uri": "https://localhost:8080/"
    },
    "executionInfo": {
     "elapsed": 3404,
     "status": "ok",
     "timestamp": 1623581932189,
     "user": {
      "displayName": "Abhinandan Joshi",
      "photoUrl": "https://lh3.googleusercontent.com/a-/AOh14GiiaCCMzbpr9mH8zm0WihE2qcxy53d326oFER9sFg=s64",
      "userId": "00520095178466898447"
     },
     "user_tz": -330
    },
    "id": "iLVFxuekAcjR",
    "outputId": "f41f1444-054d-4d2f-9b89-05e7d6d3abc5"
   },
   "outputs": [
    {
     "name": "stdout",
     "output_type": "stream",
     "text": [
      "Collecting split-folders\n",
      "  Downloading https://files.pythonhosted.org/packages/b8/5f/3c2b2f7ea5e047c8cdc3bb00ae582c5438fcdbbedcc23b3cc1c2c7aae642/split_folders-0.4.3-py3-none-any.whl\n",
      "Installing collected packages: split-folders\n",
      "Successfully installed split-folders-0.4.3\n"
     ]
    }
   ],
   "source": [
    "!pip install split-folders"
   ]
  },
  {
   "cell_type": "code",
   "execution_count": 58,
   "metadata": {
    "colab": {
     "base_uri": "https://localhost:8080/"
    },
    "executionInfo": {
     "elapsed": 923,
     "status": "ok",
     "timestamp": 1623582012485,
     "user": {
      "displayName": "Abhinandan Joshi",
      "photoUrl": "https://lh3.googleusercontent.com/a-/AOh14GiiaCCMzbpr9mH8zm0WihE2qcxy53d326oFER9sFg=s64",
      "userId": "00520095178466898447"
     },
     "user_tz": -330
    },
    "id": "igmB5THS_sX5",
    "outputId": "74016727-cefc-4470-f729-55668abcb555"
   },
   "outputs": [
    {
     "name": "stderr",
     "output_type": "stream",
     "text": [
      "Copying files: 30 files [00:00, 58.55 files/s]\n"
     ]
    }
   ],
   "source": [
    "import splitfolders\n",
    "\n",
    "splitfolders.ratio('dat_file/others/data_img', output='dat_file/others/final_image_data', seed=1337, ratio=(.80,.20))"
   ]
  },
  {
   "cell_type": "code",
   "execution_count": 3,
   "metadata": {
    "colab": {
     "base_uri": "https://localhost:8080/"
    },
    "executionInfo": {
     "elapsed": 329,
     "status": "ok",
     "timestamp": 1623562936420,
     "user": {
      "displayName": "Abhinandan Joshi",
      "photoUrl": "https://lh3.googleusercontent.com/a-/AOh14GiiaCCMzbpr9mH8zm0WihE2qcxy53d326oFER9sFg=s64",
      "userId": "00520095178466898447"
     },
     "user_tz": -330
    },
    "id": "j9r5w82540GV",
    "outputId": "75922996-75cc-496b-aad5-098d2546b70a"
   },
   "outputs": [
    {
     "name": "stdout",
     "output_type": "stream",
     "text": [
      "/content/drive/MyDrive/Final year Project\n"
     ]
    }
   ],
   "source": [
    "cd \"/content/drive/MyDrive/Final year Project/\""
   ]
  },
  {
   "cell_type": "code",
   "execution_count": 60,
   "metadata": {
    "colab": {
     "base_uri": "https://localhost:8080/",
     "height": 35
    },
    "executionInfo": {
     "elapsed": 342,
     "status": "ok",
     "timestamp": 1623585305657,
     "user": {
      "displayName": "Abhinandan Joshi",
      "photoUrl": "https://lh3.googleusercontent.com/a-/AOh14GiiaCCMzbpr9mH8zm0WihE2qcxy53d326oFER9sFg=s64",
      "userId": "00520095178466898447"
     },
     "user_tz": -330
    },
    "id": "b_taOQAm5OQw",
    "outputId": "c4a32561-d2c6-4637-acd0-80ba6a3cb65f"
   },
   "outputs": [
    {
     "data": {
      "application/vnd.google.colaboratory.intrinsic+json": {
       "type": "string"
      },
      "text/plain": [
       "'/content/drive/My Drive/Final year Project'"
      ]
     },
     "execution_count": 60,
     "metadata": {
      "tags": []
     },
     "output_type": "execute_result"
    }
   ],
   "source": [
    "pwd"
   ]
  },
  {
   "cell_type": "code",
   "execution_count": null,
   "metadata": {
    "id": "wvsiXFGA0zg4"
   },
   "outputs": [],
   "source": [
    "from google.colab import drive\n",
    "drive.mount('/content/drive')"
   ]
  }
 ],
 "metadata": {
  "colab": {
   "authorship_tag": "ABX9TyNTXuV7FCjSfoH0TyQzo30W",
   "name": "Preprocessing.ipynb",
   "provenance": []
  },
  "kernelspec": {
   "display_name": "Python 3",
   "language": "python",
   "name": "python3"
  },
  "language_info": {
   "codemirror_mode": {
    "name": "ipython",
    "version": 3
   },
   "file_extension": ".py",
   "mimetype": "text/x-python",
   "name": "python",
   "nbconvert_exporter": "python",
   "pygments_lexer": "ipython3",
   "version": "3.7.1"
  }
 },
 "nbformat": 4,
 "nbformat_minor": 1
}
